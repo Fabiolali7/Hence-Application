{
 "cells": [
  {
   "cell_type": "markdown",
   "id": "711c450a-5cff-4545-bc3b-cac1deccf5b8",
   "metadata": {},
   "source": [
    "# MODEL PREDICTING YEAR 2023 and 2024 GVA for every Crop"
   ]
  },
  {
   "cell_type": "code",
   "execution_count": 1,
   "id": "6494dda4-c3d5-4206-a52b-efd03a6f37c3",
   "metadata": {},
   "outputs": [],
   "source": [
    "import warnings\n",
    "from glob import glob\n",
    "import glob\n",
    "import os\n",
    "import numpy as np\n",
    "import plotly.express as px\n",
    "from IPython.display import VimeoVideo\n",
    "from ipywidgets import Dropdown, FloatSlider, IntSlider, interact\n",
    "from ipywidgets import interactive, IntSlider, Dropdown\n",
    "import pandas as pd\n",
    "from sklearn.model_selection import train_test_split\n",
    "from sklearn.linear_model import LinearRegression\n",
    "from sklearn.metrics import mean_squared_error, r2_score\n",
    "from sklearn.compose import ColumnTransformer\n",
    "from sklearn.pipeline import Pipeline\n",
    "from sklearn.preprocessing import OneHotEncoder\n",
    "from ipywidgets import interactive\n",
    "warnings.simplefilter(action=\"ignore\", category=FutureWarning)"
   ]
  },
  {
   "cell_type": "code",
   "execution_count": 2,
   "id": "c2295628-e8a0-4092-a6c1-4f8116e8f672",
   "metadata": {},
   "outputs": [
    {
     "name": "stdout",
     "output_type": "stream",
     "text": [
      "Processing C:\\Users\\fabiola\\Desktop\\Project 01\\DATA\\Table_1 (1).csv, df_shape: (162, 7)\n",
      "Processing C:\\Users\\fabiola\\Desktop\\Project 01\\DATA\\Table_10 (1).csv, df_shape: (42, 5)\n",
      "Processing C:\\Users\\fabiola\\Desktop\\Project 01\\DATA\\Table_11 (1).csv, df_shape: (30, 4)\n",
      "Processing C:\\Users\\fabiola\\Desktop\\Project 01\\DATA\\Table_12 (1).csv, df_shape: (27, 3)\n",
      "Processing C:\\Users\\fabiola\\Desktop\\Project 01\\DATA\\Table_13 (1).csv, df_shape: (30, 3)\n",
      "Processing C:\\Users\\fabiola\\Desktop\\Project 01\\DATA\\Table_14 (1).csv, df_shape: (30, 6)\n",
      "Processing C:\\Users\\fabiola\\Desktop\\Project 01\\DATA\\Table_2 (3).csv, df_shape: (180, 4)\n",
      "Processing C:\\Users\\fabiola\\Desktop\\Project 01\\DATA\\Table_3 (1).csv, df_shape: (90, 3)\n",
      "Processing C:\\Users\\fabiola\\Desktop\\Project 01\\DATA\\Table_4 (1).csv, df_shape: (98, 3)\n",
      "Processing C:\\Users\\fabiola\\Desktop\\Project 01\\DATA\\Table_5 (1).csv, df_shape: (1677, 4)\n",
      "Processing C:\\Users\\fabiola\\Desktop\\Project 01\\DATA\\Table_6 (3).csv, df_shape: (90, 3)\n",
      "Processing C:\\Users\\fabiola\\Desktop\\Project 01\\DATA\\Table_7 (1).csv, df_shape: (689, 4)\n",
      "Processing C:\\Users\\fabiola\\Desktop\\Project 01\\DATA\\Table_8 (1).csv, df_shape: (324, 4)\n",
      "Processing C:\\Users\\fabiola\\Desktop\\Project 01\\DATA\\Table_9 (1).csv, df_shape: (210, 4)\n"
     ]
    }
   ],
   "source": [
    "def wrangle(filepath):\n",
    "    df = pd.read_csv(filepath)\n",
    "\n",
    "    # Replace specific values with 0\n",
    "    df.fillna(0, inplace=True)\n",
    "    df.replace('_', 0, inplace=True)\n",
    "    df.replace('-', 0, inplace=True)\n",
    "   \n",
    "    return df\n",
    "\n",
    "\n",
    "data_pattern = r\"C:\\Users\\fabiola\\Desktop\\Project 01\\DATA\\Table_*.csv\"\n",
    "\n",
    "# the file paths\n",
    "files = glob.glob(data_pattern)\n",
    "\n",
    "# list to store DataFrames\n",
    "frames = []\n",
    "\n",
    "#  wrangle function\n",
    "for file in files:\n",
    "    df = wrangle(file)\n",
    "    print(f\"Processing {file}, df_shape: {df.shape}\")\n",
    "    frames.append(df)"
   ]
  },
  {
   "cell_type": "code",
   "execution_count": 3,
   "id": "d6857e9d",
   "metadata": {},
   "outputs": [],
   "source": [
    "df=frames[8]"
   ]
  },
  {
   "cell_type": "code",
   "execution_count": 4,
   "id": "97647e3a",
   "metadata": {},
   "outputs": [
    {
     "name": "stdout",
     "output_type": "stream",
     "text": [
      "==================================================\n",
      "                  Model Details                   \n",
      "==================================================\n",
      "Intercept: -203142533.7\n",
      "Coefficients: [101054.2, -90334.5, -474416.5, 248204.1, 1559042.1, 199842.9, -644877.9, 659520.6, -561101.6, 755488.0, 298363.2, -555101.2, -830820.7, 25388.1, -589196.5]\n",
      "==================================================\n"
     ]
    },
    {
     "data": {
      "application/vnd.jupyter.widget-view+json": {
       "model_id": "228e8751ca5647ff906004ddcd1a9958",
       "version_major": 2,
       "version_minor": 0
      },
      "text/plain": [
       "interactive(children=(IntSlider(value=2023, description='Year', max=2024, min=2023), Dropdown(description='Cro…"
      ]
     },
     "execution_count": 4,
     "metadata": {},
     "output_type": "execute_result"
    }
   ],
   "source": [
    "# Function to print outputs in a bordered area\n",
    "def print_output(title, content):\n",
    "    print(\"=\"*50)\n",
    "    print(title.center(50))\n",
    "    print(\"=\"*50)\n",
    "    print(content)\n",
    "    print(\"=\"*50)\n",
    "\n",
    "\n",
    "crop_column = 'Crop'\n",
    "\n",
    "# columns for the model\n",
    "features = ['Year', crop_column]\n",
    "target = 'GVA_in_price'\n",
    "\n",
    "# Split the data into training and testing sets\n",
    "X_train, X_test, y_train, y_test = train_test_split(df[features], df[target], test_size=0.2, random_state=42)\n",
    "\n",
    "# Define a pipeline with preprocessing and modeling steps\n",
    "pipeline = Pipeline([\n",
    "    ('preprocessor', ColumnTransformer(\n",
    "        transformers=[\n",
    "            ('num', 'passthrough', ['Year']),  # Numeric column\n",
    "            ('cat', OneHotEncoder(handle_unknown='ignore'), [crop_column])  # Categorical column (crop)\n",
    "        ],\n",
    "        remainder='drop'\n",
    "    )),\n",
    "    ('regressor', LinearRegression())\n",
    "])\n",
    "\n",
    "# Train the model using the pipeline\n",
    "pipeline.fit(X_train, y_train)\n",
    "\n",
    "# Get model details\n",
    "model = pipeline.named_steps['regressor']\n",
    "intercept = round(model.intercept_, 1)\n",
    "coefficients = [round(coef, 1) for coef in model.coef_]\n",
    "\n",
    "# Print the model details within a bordered area\n",
    "output_title = \"Model Details\"\n",
    "output_content = f\"Intercept: {intercept}\\nCoefficients: {coefficients}\"\n",
    "print_output(output_title, output_content)\n",
    "\n",
    "# Define sliders and dropdown\n",
    "years_slider = IntSlider(value=2023, min=2023, max=2024, step=1, description='Year')\n",
    "crop_dropdown = Dropdown(options=X_train[crop_column].unique(), value=X_train[crop_column].unique()[0], description='Crop')\n",
    "\n",
    "# Define the interactive function\n",
    "def predict_gva(year, crop):\n",
    "    data_to_predict = pd.DataFrame({'Year': [year], 'Crop': [crop]})\n",
    "    predicted_gva = pipeline.predict(data_to_predict)\n",
    "    output_title = \"Predicted GVA\"\n",
    "    output_content = f\"For {crop} in {year}: {round(predicted_gva[0], 1)}\"\n",
    "    print_output(output_title, output_content)\n",
    "\n",
    "# Create the interactive widget\n",
    "interactive_plot = interactive(predict_gva, year=years_slider, crop=crop_dropdown)\n",
    "\n",
    "# Display the interactive widget\n",
    "interactive_plot\n"
   ]
  },
  {
   "cell_type": "code",
   "execution_count": null,
   "id": "034e1fec",
   "metadata": {},
   "outputs": [],
   "source": []
  }
 ],
 "metadata": {
  "kernelspec": {
   "display_name": "Python 3 (ipykernel)",
   "language": "python",
   "name": "python3"
  },
  "language_info": {
   "codemirror_mode": {
    "name": "ipython",
    "version": 3
   },
   "file_extension": ".py",
   "mimetype": "text/x-python",
   "name": "python",
   "nbconvert_exporter": "python",
   "pygments_lexer": "ipython3",
   "version": "3.11.5"
  }
 },
 "nbformat": 4,
 "nbformat_minor": 5
}
